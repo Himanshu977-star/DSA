{
 "cells": [
  {
   "cell_type": "code",
   "execution_count": null,
   "id": "e611f38d",
   "metadata": {},
   "outputs": [],
   "source": [
    "\"\"\"\n",
    "Input: prices = [7,1,5,3,6,4]\n",
    "Output: 5\n",
    "Explanation: Buy on day 2 (price = 1) and sell on day 5 (price = 6), profit = 6-1 = 5.\n",
    "Note that buying on day 2 and selling on day 1 is not allowed because you must buy before you sell.\n",
    "\"\"\"\n",
    "\n",
    "\n",
    "class Solution(object):\n",
    "    def maxProfit(self, prices):\n",
    "        profit=0\n",
    "        buy=prices[0]\n",
    "        for i in range(1,len(prices)):\n",
    "            sell=prices[i]\n",
    "\n",
    "            if buy>sell:\n",
    "                buy=sell\n",
    "            elif sell>buy:\n",
    "                if (sell-buy)>profit:\n",
    "                    profit=sell-buy             \n",
    "        return profit"
   ]
  }
 ],
 "metadata": {
  "kernelspec": {
   "display_name": "Python (tf_env)",
   "language": "python",
   "name": "tf_env"
  },
  "language_info": {
   "name": "python",
   "version": "3.9.23"
  }
 },
 "nbformat": 4,
 "nbformat_minor": 5
}
