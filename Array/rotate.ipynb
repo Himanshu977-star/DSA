{
 "cells": [
  {
   "cell_type": "code",
   "execution_count": null,
   "id": "62475057",
   "metadata": {},
   "outputs": [],
   "source": [
    "\"\"\"\n",
    "Input: nums = [1,2,3,4,5,6,7], k = 3\n",
    "Output: [5,6,7,1,2,3,4]\n",
    "Explanation:\n",
    "rotate 1 steps to the right: [7,1,2,3,4,5,6]\n",
    "rotate 2 steps to the right: [6,7,1,2,3,4,5]\n",
    "rotate 3 steps to the right: [5,6,7,1,2,3,4]\n",
    "\"\"\"\n",
    "\n",
    "\n",
    "def rotate(self,nums, k):\n",
    "      n = len(nums)\n",
    "      k = k%n\n",
    "      nums[:] = nums[n-k:] + nums[:n-k]"
   ]
  }
 ],
 "metadata": {
  "kernelspec": {
   "display_name": "Python (tf_env)",
   "language": "python",
   "name": "tf_env"
  },
  "language_info": {
   "name": "python",
   "version": "3.9.23"
  }
 },
 "nbformat": 4,
 "nbformat_minor": 5
}
