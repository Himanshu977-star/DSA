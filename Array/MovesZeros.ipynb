{
 "cells": [
  {
   "cell_type": "code",
   "execution_count": null,
   "id": "a7ccaf86",
   "metadata": {},
   "outputs": [],
   "source": [
    "\"\"\"\n",
    "Input: nums = [0,1,0,3,12]\n",
    "Output: [1,3,12,0,0]\n",
    "\"\"\"\n",
    "\n",
    "class Solution(object):\n",
    "    def moveZeroes(self, nums):\n",
    "        \"\"\"\n",
    "        :type nums: List[int]\n",
    "        :rtype: None Do not return anything, modify nums in-place instead.\n",
    "        \"\"\"\n",
    "        m=len(nums)\n",
    "        j=0\n",
    "        for i in range(m):\n",
    "            if nums[i]!=0:\n",
    "                nums[j],nums[i]=nums[i],nums[j]\n",
    "                j=j+1\n",
    "        return nums  "
   ]
  }
 ],
 "metadata": {
  "kernelspec": {
   "display_name": "Python (tf_env)",
   "language": "python",
   "name": "tf_env"
  },
  "language_info": {
   "name": "python",
   "version": "3.9.23"
  }
 },
 "nbformat": 4,
 "nbformat_minor": 5
}
