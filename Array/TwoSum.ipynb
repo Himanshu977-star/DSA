{
 "cells": [
  {
   "cell_type": "code",
   "execution_count": null,
   "id": "fa93eb8f",
   "metadata": {},
   "outputs": [],
   "source": [
    "\"\"\"\n",
    "Example 1:\n",
    "Input: nums = [2,7,11,15], target = 9\n",
    "Output: [0,1]\n",
    "Explanation: Because nums[0] + nums[1] == 9, we return [0, 1].\n",
    "\"\"\"\n",
    "# Your class\n",
    "class Solution(object):\n",
    "    def twoSum(self, nums, target):\n",
    "        n = len(nums)\n",
    "        for i in range(n-1):\n",
    "            for j in range(i+1, n):\n",
    "                if nums[i] + nums[j] == target:\n",
    "                    return [i, j]\n",
    "        return []\n",
    "\n",
    "# Create object\n",
    "obj = Solution()\n",
    "\n",
    "# Call function with arguments\n",
    "result = obj.twoSum([2, 7, 11, 15], 9)\n",
    "\n",
    "print(result)\n",
    "        "
   ]
  }
 ],
 "metadata": {
  "kernelspec": {
   "display_name": "Python (tf_env)",
   "language": "python",
   "name": "tf_env"
  },
  "language_info": {
   "codemirror_mode": {
    "name": "ipython",
    "version": 3
   },
   "file_extension": ".py",
   "mimetype": "text/x-python",
   "name": "python",
   "nbconvert_exporter": "python",
   "pygments_lexer": "ipython3",
   "version": "3.9.23"
  }
 },
 "nbformat": 4,
 "nbformat_minor": 5
}
